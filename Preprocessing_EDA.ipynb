{
 "cells": [
  {
   "cell_type": "code",
   "execution_count": null,
   "id": "5fab8505-0ab7-437a-9c45-ee7d3c47d709",
   "metadata": {},
   "outputs": [],
   "source": [
    "\"\"\"\n",
    "Watermark:\n",
    "© Clarity Kummer 2024\n",
    "\"\"\""
   ]
  },
  {
   "cell_type": "code",
   "execution_count": null,
   "id": "4f228767-1080-48ba-a1c9-11b3be9e9ebe",
   "metadata": {},
   "outputs": [],
   "source": [
    "import pandas as pd \n",
    "import numpy as np\n",
    "import matplotlib.pyplot as plt\n",
    "from sklearn import linear_model\n",
    "import seaborn as sns\n",
    "import matplotlib.pyplot as plt\n",
    "from sklearn.preprocessing import LabelEncoder\n",
    "from sklearn.linear_model import LinearRegression\n",
    "from sklearn.metrics import mean_absolute_error,mean_squared_error\n",
    "from sklearn.inspection import permutation_importance\n",
    "from sklearn.preprocessing import StandardScaler"
   ]
  },
  {
   "cell_type": "code",
   "execution_count": null,
   "id": "ffc1175d-9e58-4c85-8bf7-069b05f1fa7c",
   "metadata": {},
   "outputs": [],
   "source": [
    "raw_df = pd.read_csv('stats.csv)"
   ]
  },
  {
   "cell_type": "code",
   "execution_count": null,
   "id": "1d0d248e-fe01-4c57-9d74-3302a840c393",
   "metadata": {},
   "outputs": [],
   "source": [
    "df = raw_df.copy()\n",
    "df.drop('last_name, first_name',axis = 1,inplace=True)\n",
    "df.drop('player_id',axis = 1,inplace=True)"
   ]
  },
  {
   "cell_type": "code",
   "execution_count": null,
   "id": "abdb8c59-439b-4e55-9ab2-0b181dff7efa",
   "metadata": {},
   "outputs": [],
   "source": [
    "train_df = df[(df['year'] == 2021) | (df['year'] == 2020)]\n",
    "val_df = df[df.year==2022]\n",
    "test_df = df[df.year==2023]"
   ]
  }
 ],
 "metadata": {
  "kernelspec": {
   "display_name": "Python 3 (ipykernel)",
   "language": "python",
   "name": "python3"
  },
  "language_info": {
   "codemirror_mode": {
    "name": "ipython",
    "version": 3
   },
   "file_extension": ".py",
   "mimetype": "text/x-python",
   "name": "python",
   "nbconvert_exporter": "python",
   "pygments_lexer": "ipython3",
   "version": "3.11.5"
  }
 },
 "nbformat": 4,
 "nbformat_minor": 5
}
